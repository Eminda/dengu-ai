{
 "cells": [
  {
   "cell_type": "code",
   "execution_count": 6,
   "metadata": {
    "collapsed": true
   },
   "outputs": [],
   "source": [
    "import  pandas as  pd  # data processing, CSV file I/O (e.g. pd.read_csv)# data  \n",
    "import numpy as np\n"
   ]
  },
  {
   "cell_type": "code",
   "execution_count": 10,
   "metadata": {
    "collapsed": false
   },
   "outputs": [],
   "source": [
    "train_features = pd.read_csv('data/dengue_features_train.csv')\n",
    "train_labels = pd.read_csv('data/dengue_labels_train.csv')\n",
    "\n",
    "test_features = pd.read_csv('data/dengue_features_test.csv')\n",
    "\n",
    "train_features.dropna(inplace=True)\n",
    "train_labels.dropna(inplace=True)"
   ]
  },
  {
   "cell_type": "code",
   "execution_count": 11,
   "metadata": {
    "collapsed": true
   },
   "outputs": [],
   "source": [
    "sample_data = pd.merge(train_labels, train_features, on=('year', 'city', 'weekofyear'))\n",
    "\n",
    "sample_data.fillna(method='ffill', inplace=True)\n",
    "sample_data_sj = sample_data[sample_data.city == 'sj'].copy()\n",
    "sample_data_iq = sample_data[sample_data.city == 'iq'].copy()\n",
    "\n",
    "test_features.fillna(method='ffill', inplace=True)\n",
    "test_data_sj = test_features[test_features.city == \"sj\"].copy()\n",
    "test_data_iq = test_features[test_features.city == \"iq\"].copy()"
   ]
  },
  {
   "cell_type": "code",
   "execution_count": 12,
   "metadata": {
    "collapsed": true
   },
   "outputs": [],
   "source": [
    "sample_data_sj.drop('reanalysis_tdtr_k', axis=1, inplace=True)\n",
    "sample_data_iq.drop('reanalysis_tdtr_k', axis=1, inplace=True)\n",
    "\n",
    "sample_data_sj.drop('year', axis=1, inplace=True)\n",
    "sample_data_iq.drop('year', axis=1, inplace=True)\n",
    "\n",
    "sample_data_sj.drop('ndvi_ne', axis=1, inplace=True)\n",
    "sample_data_iq.drop('ndvi_ne', axis=1, inplace=True)\n",
    "\n",
    "sample_data_sj.drop('reanalysis_max_air_temp_k', axis=1, inplace=True)\n",
    "sample_data_iq.drop('reanalysis_max_air_temp_k', axis=1, inplace=True)\n",
    "\n",
    "sample_data_sj.drop('ndvi_se', axis=1, inplace=True)\n",
    "sample_data_iq.drop('ndvi_se', axis=1, inplace=True)\n",
    "\n",
    "sample_data_sj.drop('station_diur_temp_rng_c', axis=1, inplace=True)\n",
    "sample_data_iq.drop('station_diur_temp_rng_c', axis=1, inplace=True)\n",
    "\n",
    "sample_data_sj.drop('weekofyear', axis=1, inplace=True)\n",
    "sample_data_iq.drop('weekofyear', axis=1, inplace=True)\n",
    "\n",
    "sample_data_sj.drop('ndvi_nw', axis=1, inplace=True)\n",
    "sample_data_iq.drop('ndvi_nw', axis=1, inplace=True)"
   ]
  },
  {
   "cell_type": "code",
   "execution_count": 13,
   "metadata": {
    "collapsed": false
   },
   "outputs": [],
   "source": [
    "test_data_sj.drop('reanalysis_tdtr_k', axis=1, inplace=True)\n",
    "test_data_iq.drop('reanalysis_tdtr_k', axis=1, inplace=True)\n",
    "\n",
    "test_data_sj.drop('year', axis=1, inplace=True)\n",
    "test_data_iq.drop('year', axis=1, inplace=True)\n",
    "\n",
    "test_data_sj.drop('ndvi_ne', axis=1, inplace=True)\n",
    "test_data_iq.drop('ndvi_ne', axis=1, inplace=True)\n",
    "\n",
    "test_data_sj.drop('reanalysis_max_air_temp_k', axis=1, inplace=True)\n",
    "test_data_iq.drop('reanalysis_max_air_temp_k', axis=1, inplace=True)\n",
    "\n",
    "test_data_sj.drop('ndvi_se', axis=1, inplace=True)\n",
    "test_data_iq.drop('ndvi_se', axis=1, inplace=True)\n",
    "\n",
    "test_data_sj.drop('station_diur_temp_rng_c', axis=1, inplace=True)\n",
    "test_data_iq.drop('station_diur_temp_rng_c', axis=1, inplace=True)\n",
    "\n",
    "test_data_sj.drop('weekofyear', axis=1, inplace=True)\n",
    "test_data_iq.drop('weekofyear', axis=1, inplace=True)\n",
    "\n",
    "test_data_sj.drop('ndvi_nw', axis=1, inplace=True)\n",
    "test_data_iq.drop('ndvi_nw', axis=1, inplace=True)"
   ]
  },
  {
   "cell_type": "code",
   "execution_count": 14,
   "metadata": {
    "collapsed": false
   },
   "outputs": [],
   "source": [
    "sj_train_subtrain = sample_data_sj.head(800)\n",
    "sj_train_subtest = sample_data_sj.tail(sample_data_sj.shape[0] - 800)\n",
    "\n",
    "iq_train_subtrain = sample_data_iq.head(400)\n",
    "iq_train_subtest = sample_data_iq.tail(sample_data_iq.shape[0] - 400)"
   ]
  },
  {
   "cell_type": "code",
   "execution_count": 15,
   "metadata": {
    "collapsed": false
   },
   "outputs": [
    {
     "name": "stdout",
     "output_type": "stream",
     "text": [
      "best alpha =  1e-08\n",
      "best score =  20.2767584098\n",
      "best alpha =  1e-08\n",
      "best score =  5.29166666667\n"
     ]
    }
   ],
   "source": [
    "### Model generator\n",
    "from statsmodels.tools import eval_measures\n",
    "import statsmodels.formula.api as smf\n",
    "\n",
    "from sklearn.cross_validation import train_test_split\n",
    "import statsmodels.api as sm\n",
    "\n",
    "\n",
    "from statsmodels.tools import eval_measures\n",
    "import statsmodels.formula.api as smf\n",
    "\n",
    "def get_best_model(train, test):\n",
    "    # Step 1: specify the form of the model\n",
    "    model_formula = \"total_cases ~ 1 + \" \\\n",
    "                    \"reanalysis_specific_humidity_g_per_kg + \" \\\n",
    "                    \"reanalysis_dew_point_temp_k + \" \\\n",
    "                    \"reanalysis_min_air_temp_k + \" \\\n",
    "                    \"station_min_temp_c + \" \\\n",
    "                    \"station_max_temp_c + \" \\\n",
    "                    \"station_avg_temp_c\"\n",
    "                    \n",
    "        \n",
    "    \n",
    "    grid = 10 ** np.arange(-8, -3, dtype=np.float64)\n",
    "                    \n",
    "    best_alpha = []\n",
    "    best_score = 1000\n",
    "        \n",
    "    # Step 2: Find the best hyper parameter, alpha\n",
    "    for alpha in grid:\n",
    "        model = smf.glm(formula=model_formula,\n",
    "                        data=train,\n",
    "                        family=sm.families.NegativeBinomial(alpha=alpha))\n",
    "\n",
    "        results = model.fit()\n",
    "        predictions = results.predict(test).astype(int)\n",
    "        score = eval_measures.meanabs(predictions, test.total_cases)\n",
    "\n",
    "        if score < best_score:\n",
    "            best_alpha = alpha\n",
    "            best_score = score\n",
    "\n",
    "    print('best alpha = ', best_alpha)\n",
    "    print('best score = ', best_score)\n",
    "            \n",
    "    # Step 3: refit on entire dataset\n",
    "    full_dataset = pd.concat([train, test])\n",
    "    model = smf.glm(formula=model_formula,\n",
    "                    data=full_dataset,\n",
    "                    family=sm.families.NegativeBinomial(alpha=best_alpha))\n",
    "\n",
    "    fitted_model = model.fit()\n",
    "    return fitted_model\n",
    "    \n",
    "sj_best_model = get_best_model(sj_train_subtrain, sj_train_subtest)\n",
    "iq_best_model = get_best_model(iq_train_subtrain, iq_train_subtest)"
   ]
  },
  {
   "cell_type": "code",
   "execution_count": 17,
   "metadata": {
    "collapsed": true
   },
   "outputs": [],
   "source": [
    "sj_predictions = sj_best_model.predict(test_data_sj).astype(int)\n",
    "iq_predictions = iq_best_model.predict(test_data_iq).astype(int)"
   ]
  },
  {
   "cell_type": "code",
   "execution_count": 18,
   "metadata": {
    "collapsed": true
   },
   "outputs": [],
   "source": [
    "submission = pd.read_csv(\"data/submission_format.csv\")\n",
    "submission.drop('total_cases', axis=1, inplace=True)\n",
    "\n",
    "submission[\"total_cases\"] = np.concatenate([sj_predictions, iq_predictions])\n",
    "\n",
    "submission.to_csv(\"output/submission.csv\", index=False)"
   ]
  },
  {
   "cell_type": "code",
   "execution_count": null,
   "metadata": {
    "collapsed": true
   },
   "outputs": [],
   "source": []
  }
 ],
 "metadata": {
  "anaconda-cloud": {},
  "kernelspec": {
   "display_name": "Python [default]",
   "language": "python",
   "name": "python3"
  },
  "language_info": {
   "codemirror_mode": {
    "name": "ipython",
    "version": 3
   },
   "file_extension": ".py",
   "mimetype": "text/x-python",
   "name": "python",
   "nbconvert_exporter": "python",
   "pygments_lexer": "ipython3",
   "version": "3.5.2"
  }
 },
 "nbformat": 4,
 "nbformat_minor": 2
}
